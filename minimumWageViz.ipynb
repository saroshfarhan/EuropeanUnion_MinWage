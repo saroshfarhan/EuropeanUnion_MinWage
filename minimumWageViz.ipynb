{
 "cells": [
  {
   "cell_type": "markdown",
   "id": "88a37226",
   "metadata": {},
   "source": [
    "# Getting the minimumwage for Europian Union countries"
   ]
  },
  {
   "cell_type": "markdown",
   "id": "cf0647ab",
   "metadata": {},
   "source": [
    "## Loading the libraries and dataset"
   ]
  },
  {
   "cell_type": "code",
   "execution_count": 2,
   "id": "f93c5489",
   "metadata": {},
   "outputs": [],
   "source": [
    "import pandas as pd\n",
    "import seaborn as sns\n",
    "import matplotlib.pyplot as plt\n",
    "\n",
    "# Load the dataset\n",
    "df = pd.read_csv('estat_tps00155.tsv', sep='\\t')"
   ]
  },
  {
   "cell_type": "code",
   "execution_count": 3,
   "id": "cc11739c",
   "metadata": {},
   "outputs": [
    {
     "data": {
      "application/vnd.microsoft.datawrangler.viewer.v0+json": {
       "columns": [
        {
         "name": "index",
         "rawType": "int64",
         "type": "integer"
        },
        {
         "name": "freq,currency,geo\\TIME_PERIOD",
         "rawType": "object",
         "type": "string"
        },
        {
         "name": "2020-S1 ",
         "rawType": "object",
         "type": "string"
        },
        {
         "name": "2020-S2 ",
         "rawType": "object",
         "type": "string"
        },
        {
         "name": "2021-S1 ",
         "rawType": "object",
         "type": "string"
        },
        {
         "name": "2021-S2 ",
         "rawType": "object",
         "type": "string"
        },
        {
         "name": "2022-S1 ",
         "rawType": "object",
         "type": "string"
        },
        {
         "name": "2022-S2 ",
         "rawType": "object",
         "type": "string"
        },
        {
         "name": "2023-S1 ",
         "rawType": "object",
         "type": "string"
        },
        {
         "name": "2023-S2 ",
         "rawType": "object",
         "type": "string"
        },
        {
         "name": "2024-S1 ",
         "rawType": "object",
         "type": "string"
        },
        {
         "name": "2024-S2 ",
         "rawType": "object",
         "type": "string"
        },
        {
         "name": "2025-S1 ",
         "rawType": "object",
         "type": "string"
        },
        {
         "name": "2025-S2 ",
         "rawType": "object",
         "type": "string"
        }
       ],
       "ref": "91bd3d3e-c9ee-49bd-a2de-e2295151fc35",
       "rows": [
        [
         "0",
         "S,EUR,AL",
         "213 ",
         "209 ",
         "243 ",
         "245 ",
         "248 ",
         "269 ",
         "298 ",
         "376 ",
         "385 ",
         "399 ",
         "408 ",
         "408 "
        ],
        [
         "1",
         "S,EUR,AT",
         ": m",
         ": m",
         ": m",
         ": m",
         ": m",
         ": m",
         ": m",
         ": m",
         ": m",
         ": m",
         ": m",
         ": m"
        ],
        [
         "2",
         "S,EUR,BE",
         "1594 ",
         "1626 ",
         "1626 ",
         "1626 ",
         "1658 ",
         "1842 ",
         "1955 ",
         "1955 ",
         "1994 ",
         "2070 ",
         "2070 ",
         "2112 "
        ],
        [
         "3",
         "S,EUR,BG",
         "312 ",
         "312 ",
         "332 ",
         "332 ",
         "332 ",
         "363 ",
         "399 ",
         "399 ",
         "477 ",
         "477 ",
         "551 ",
         "551 "
        ],
        [
         "4",
         "S,EUR,CH",
         ": m",
         ": m",
         ": m",
         ": m",
         ": m",
         ": m",
         ": m",
         ": m",
         ": m",
         ": m",
         ": m",
         ": m"
        ]
       ],
       "shape": {
        "columns": 13,
        "rows": 5
       }
      },
      "text/html": [
       "<div>\n",
       "<style scoped>\n",
       "    .dataframe tbody tr th:only-of-type {\n",
       "        vertical-align: middle;\n",
       "    }\n",
       "\n",
       "    .dataframe tbody tr th {\n",
       "        vertical-align: top;\n",
       "    }\n",
       "\n",
       "    .dataframe thead th {\n",
       "        text-align: right;\n",
       "    }\n",
       "</style>\n",
       "<table border=\"1\" class=\"dataframe\">\n",
       "  <thead>\n",
       "    <tr style=\"text-align: right;\">\n",
       "      <th></th>\n",
       "      <th>freq,currency,geo\\TIME_PERIOD</th>\n",
       "      <th>2020-S1</th>\n",
       "      <th>2020-S2</th>\n",
       "      <th>2021-S1</th>\n",
       "      <th>2021-S2</th>\n",
       "      <th>2022-S1</th>\n",
       "      <th>2022-S2</th>\n",
       "      <th>2023-S1</th>\n",
       "      <th>2023-S2</th>\n",
       "      <th>2024-S1</th>\n",
       "      <th>2024-S2</th>\n",
       "      <th>2025-S1</th>\n",
       "      <th>2025-S2</th>\n",
       "    </tr>\n",
       "  </thead>\n",
       "  <tbody>\n",
       "    <tr>\n",
       "      <th>0</th>\n",
       "      <td>S,EUR,AL</td>\n",
       "      <td>213</td>\n",
       "      <td>209</td>\n",
       "      <td>243</td>\n",
       "      <td>245</td>\n",
       "      <td>248</td>\n",
       "      <td>269</td>\n",
       "      <td>298</td>\n",
       "      <td>376</td>\n",
       "      <td>385</td>\n",
       "      <td>399</td>\n",
       "      <td>408</td>\n",
       "      <td>408</td>\n",
       "    </tr>\n",
       "    <tr>\n",
       "      <th>1</th>\n",
       "      <td>S,EUR,AT</td>\n",
       "      <td>: m</td>\n",
       "      <td>: m</td>\n",
       "      <td>: m</td>\n",
       "      <td>: m</td>\n",
       "      <td>: m</td>\n",
       "      <td>: m</td>\n",
       "      <td>: m</td>\n",
       "      <td>: m</td>\n",
       "      <td>: m</td>\n",
       "      <td>: m</td>\n",
       "      <td>: m</td>\n",
       "      <td>: m</td>\n",
       "    </tr>\n",
       "    <tr>\n",
       "      <th>2</th>\n",
       "      <td>S,EUR,BE</td>\n",
       "      <td>1594</td>\n",
       "      <td>1626</td>\n",
       "      <td>1626</td>\n",
       "      <td>1626</td>\n",
       "      <td>1658</td>\n",
       "      <td>1842</td>\n",
       "      <td>1955</td>\n",
       "      <td>1955</td>\n",
       "      <td>1994</td>\n",
       "      <td>2070</td>\n",
       "      <td>2070</td>\n",
       "      <td>2112</td>\n",
       "    </tr>\n",
       "    <tr>\n",
       "      <th>3</th>\n",
       "      <td>S,EUR,BG</td>\n",
       "      <td>312</td>\n",
       "      <td>312</td>\n",
       "      <td>332</td>\n",
       "      <td>332</td>\n",
       "      <td>332</td>\n",
       "      <td>363</td>\n",
       "      <td>399</td>\n",
       "      <td>399</td>\n",
       "      <td>477</td>\n",
       "      <td>477</td>\n",
       "      <td>551</td>\n",
       "      <td>551</td>\n",
       "    </tr>\n",
       "    <tr>\n",
       "      <th>4</th>\n",
       "      <td>S,EUR,CH</td>\n",
       "      <td>: m</td>\n",
       "      <td>: m</td>\n",
       "      <td>: m</td>\n",
       "      <td>: m</td>\n",
       "      <td>: m</td>\n",
       "      <td>: m</td>\n",
       "      <td>: m</td>\n",
       "      <td>: m</td>\n",
       "      <td>: m</td>\n",
       "      <td>: m</td>\n",
       "      <td>: m</td>\n",
       "      <td>: m</td>\n",
       "    </tr>\n",
       "  </tbody>\n",
       "</table>\n",
       "</div>"
      ],
      "text/plain": [
       "  freq,currency,geo\\TIME_PERIOD 2020-S1  2020-S2  2021-S1  2021-S2  2022-S1   \\\n",
       "0                      S,EUR,AL     213      209      243      245      248    \n",
       "1                      S,EUR,AT      : m      : m      : m      : m      : m   \n",
       "2                      S,EUR,BE    1594     1626     1626     1626     1658    \n",
       "3                      S,EUR,BG     312      312      332      332      332    \n",
       "4                      S,EUR,CH      : m      : m      : m      : m      : m   \n",
       "\n",
       "  2022-S2  2023-S1  2023-S2  2024-S1  2024-S2  2025-S1  2025-S2   \n",
       "0     269      298      376      385      399      408      408   \n",
       "1      : m      : m      : m      : m      : m      : m      : m  \n",
       "2    1842     1955     1955     1994     2070     2070     2112   \n",
       "3     363      399      399      477      477      551      551   \n",
       "4      : m      : m      : m      : m      : m      : m      : m  "
      ]
     },
     "execution_count": 3,
     "metadata": {},
     "output_type": "execute_result"
    }
   ],
   "source": [
    "df.head()"
   ]
  },
  {
   "cell_type": "code",
   "execution_count": 4,
   "id": "29daa201",
   "metadata": {},
   "outputs": [
    {
     "data": {
      "application/vnd.microsoft.datawrangler.viewer.v0+json": {
       "columns": [
        {
         "name": "index",
         "rawType": "int64",
         "type": "integer"
        },
        {
         "name": "freq,currency,geo\\TIME_PERIOD",
         "rawType": "object",
         "type": "string"
        },
        {
         "name": "2020-S1 ",
         "rawType": "object",
         "type": "string"
        },
        {
         "name": "2020-S2 ",
         "rawType": "object",
         "type": "string"
        },
        {
         "name": "2021-S1 ",
         "rawType": "object",
         "type": "string"
        },
        {
         "name": "2021-S2 ",
         "rawType": "object",
         "type": "string"
        },
        {
         "name": "2022-S1 ",
         "rawType": "object",
         "type": "string"
        },
        {
         "name": "2022-S2 ",
         "rawType": "object",
         "type": "string"
        },
        {
         "name": "2023-S1 ",
         "rawType": "object",
         "type": "string"
        },
        {
         "name": "2023-S2 ",
         "rawType": "object",
         "type": "string"
        },
        {
         "name": "2024-S1 ",
         "rawType": "object",
         "type": "string"
        },
        {
         "name": "2024-S2 ",
         "rawType": "object",
         "type": "string"
        },
        {
         "name": "2025-S1 ",
         "rawType": "object",
         "type": "string"
        },
        {
         "name": "2025-S2 ",
         "rawType": "object",
         "type": "string"
        },
        {
         "name": "freq",
         "rawType": "object",
         "type": "string"
        },
        {
         "name": "currency",
         "rawType": "object",
         "type": "string"
        },
        {
         "name": "geo",
         "rawType": "object",
         "type": "string"
        }
       ],
       "ref": "56ccfa69-0f40-489c-b601-7aa1a7e609af",
       "rows": [
        [
         "0",
         "S,EUR,AL",
         "213 ",
         "209 ",
         "243 ",
         "245 ",
         "248 ",
         "269 ",
         "298 ",
         "376 ",
         "385 ",
         "399 ",
         "408 ",
         "408 ",
         "S",
         "EUR",
         "AL"
        ],
        [
         "1",
         "S,EUR,AT",
         ": m",
         ": m",
         ": m",
         ": m",
         ": m",
         ": m",
         ": m",
         ": m",
         ": m",
         ": m",
         ": m",
         ": m",
         "S",
         "EUR",
         "AT"
        ],
        [
         "2",
         "S,EUR,BE",
         "1594 ",
         "1626 ",
         "1626 ",
         "1626 ",
         "1658 ",
         "1842 ",
         "1955 ",
         "1955 ",
         "1994 ",
         "2070 ",
         "2070 ",
         "2112 ",
         "S",
         "EUR",
         "BE"
        ],
        [
         "3",
         "S,EUR,BG",
         "312 ",
         "312 ",
         "332 ",
         "332 ",
         "332 ",
         "363 ",
         "399 ",
         "399 ",
         "477 ",
         "477 ",
         "551 ",
         "551 ",
         "S",
         "EUR",
         "BG"
        ],
        [
         "4",
         "S,EUR,CH",
         ": m",
         ": m",
         ": m",
         ": m",
         ": m",
         ": m",
         ": m",
         ": m",
         ": m",
         ": m",
         ": m",
         ": m",
         "S",
         "EUR",
         "CH"
        ]
       ],
       "shape": {
        "columns": 16,
        "rows": 5
       }
      },
      "text/html": [
       "<div>\n",
       "<style scoped>\n",
       "    .dataframe tbody tr th:only-of-type {\n",
       "        vertical-align: middle;\n",
       "    }\n",
       "\n",
       "    .dataframe tbody tr th {\n",
       "        vertical-align: top;\n",
       "    }\n",
       "\n",
       "    .dataframe thead th {\n",
       "        text-align: right;\n",
       "    }\n",
       "</style>\n",
       "<table border=\"1\" class=\"dataframe\">\n",
       "  <thead>\n",
       "    <tr style=\"text-align: right;\">\n",
       "      <th></th>\n",
       "      <th>freq,currency,geo\\TIME_PERIOD</th>\n",
       "      <th>2020-S1</th>\n",
       "      <th>2020-S2</th>\n",
       "      <th>2021-S1</th>\n",
       "      <th>2021-S2</th>\n",
       "      <th>2022-S1</th>\n",
       "      <th>2022-S2</th>\n",
       "      <th>2023-S1</th>\n",
       "      <th>2023-S2</th>\n",
       "      <th>2024-S1</th>\n",
       "      <th>2024-S2</th>\n",
       "      <th>2025-S1</th>\n",
       "      <th>2025-S2</th>\n",
       "      <th>freq</th>\n",
       "      <th>currency</th>\n",
       "      <th>geo</th>\n",
       "    </tr>\n",
       "  </thead>\n",
       "  <tbody>\n",
       "    <tr>\n",
       "      <th>0</th>\n",
       "      <td>S,EUR,AL</td>\n",
       "      <td>213</td>\n",
       "      <td>209</td>\n",
       "      <td>243</td>\n",
       "      <td>245</td>\n",
       "      <td>248</td>\n",
       "      <td>269</td>\n",
       "      <td>298</td>\n",
       "      <td>376</td>\n",
       "      <td>385</td>\n",
       "      <td>399</td>\n",
       "      <td>408</td>\n",
       "      <td>408</td>\n",
       "      <td>S</td>\n",
       "      <td>EUR</td>\n",
       "      <td>AL</td>\n",
       "    </tr>\n",
       "    <tr>\n",
       "      <th>1</th>\n",
       "      <td>S,EUR,AT</td>\n",
       "      <td>: m</td>\n",
       "      <td>: m</td>\n",
       "      <td>: m</td>\n",
       "      <td>: m</td>\n",
       "      <td>: m</td>\n",
       "      <td>: m</td>\n",
       "      <td>: m</td>\n",
       "      <td>: m</td>\n",
       "      <td>: m</td>\n",
       "      <td>: m</td>\n",
       "      <td>: m</td>\n",
       "      <td>: m</td>\n",
       "      <td>S</td>\n",
       "      <td>EUR</td>\n",
       "      <td>AT</td>\n",
       "    </tr>\n",
       "    <tr>\n",
       "      <th>2</th>\n",
       "      <td>S,EUR,BE</td>\n",
       "      <td>1594</td>\n",
       "      <td>1626</td>\n",
       "      <td>1626</td>\n",
       "      <td>1626</td>\n",
       "      <td>1658</td>\n",
       "      <td>1842</td>\n",
       "      <td>1955</td>\n",
       "      <td>1955</td>\n",
       "      <td>1994</td>\n",
       "      <td>2070</td>\n",
       "      <td>2070</td>\n",
       "      <td>2112</td>\n",
       "      <td>S</td>\n",
       "      <td>EUR</td>\n",
       "      <td>BE</td>\n",
       "    </tr>\n",
       "    <tr>\n",
       "      <th>3</th>\n",
       "      <td>S,EUR,BG</td>\n",
       "      <td>312</td>\n",
       "      <td>312</td>\n",
       "      <td>332</td>\n",
       "      <td>332</td>\n",
       "      <td>332</td>\n",
       "      <td>363</td>\n",
       "      <td>399</td>\n",
       "      <td>399</td>\n",
       "      <td>477</td>\n",
       "      <td>477</td>\n",
       "      <td>551</td>\n",
       "      <td>551</td>\n",
       "      <td>S</td>\n",
       "      <td>EUR</td>\n",
       "      <td>BG</td>\n",
       "    </tr>\n",
       "    <tr>\n",
       "      <th>4</th>\n",
       "      <td>S,EUR,CH</td>\n",
       "      <td>: m</td>\n",
       "      <td>: m</td>\n",
       "      <td>: m</td>\n",
       "      <td>: m</td>\n",
       "      <td>: m</td>\n",
       "      <td>: m</td>\n",
       "      <td>: m</td>\n",
       "      <td>: m</td>\n",
       "      <td>: m</td>\n",
       "      <td>: m</td>\n",
       "      <td>: m</td>\n",
       "      <td>: m</td>\n",
       "      <td>S</td>\n",
       "      <td>EUR</td>\n",
       "      <td>CH</td>\n",
       "    </tr>\n",
       "  </tbody>\n",
       "</table>\n",
       "</div>"
      ],
      "text/plain": [
       "  freq,currency,geo\\TIME_PERIOD 2020-S1  2020-S2  2021-S1  2021-S2  2022-S1   \\\n",
       "0                      S,EUR,AL     213      209      243      245      248    \n",
       "1                      S,EUR,AT      : m      : m      : m      : m      : m   \n",
       "2                      S,EUR,BE    1594     1626     1626     1626     1658    \n",
       "3                      S,EUR,BG     312      312      332      332      332    \n",
       "4                      S,EUR,CH      : m      : m      : m      : m      : m   \n",
       "\n",
       "  2022-S2  2023-S1  2023-S2  2024-S1  2024-S2  2025-S1  2025-S2  freq  \\\n",
       "0     269      298      376      385      399      408      408     S   \n",
       "1      : m      : m      : m      : m      : m      : m      : m    S   \n",
       "2    1842     1955     1955     1994     2070     2070     2112     S   \n",
       "3     363      399      399      477      477      551      551     S   \n",
       "4      : m      : m      : m      : m      : m      : m      : m    S   \n",
       "\n",
       "  currency geo  \n",
       "0      EUR  AL  \n",
       "1      EUR  AT  \n",
       "2      EUR  BE  \n",
       "3      EUR  BG  \n",
       "4      EUR  CH  "
      ]
     },
     "execution_count": 4,
     "metadata": {},
     "output_type": "execute_result"
    }
   ],
   "source": [
    "# Split the first column into separate columns\n",
    "df[['freq', 'currency', 'geo']] = df['freq,currency,geo\\\\TIME_PERIOD'].str.split(',', expand=True)\n",
    "\n",
    "# Now you have a new 'geo' column with just the country code\n",
    "df.head()"
   ]
  },
  {
   "cell_type": "code",
   "execution_count": 5,
   "id": "97c5d6c8",
   "metadata": {},
   "outputs": [
    {
     "data": {
      "application/vnd.microsoft.datawrangler.viewer.v0+json": {
       "columns": [
        {
         "name": "index",
         "rawType": "int64",
         "type": "integer"
        },
        {
         "name": "geo",
         "rawType": "object",
         "type": "string"
        },
        {
         "name": "2020-S1 ",
         "rawType": "object",
         "type": "string"
        },
        {
         "name": "2020-S2 ",
         "rawType": "object",
         "type": "string"
        },
        {
         "name": "2021-S1 ",
         "rawType": "object",
         "type": "string"
        },
        {
         "name": "2021-S2 ",
         "rawType": "object",
         "type": "string"
        },
        {
         "name": "2022-S1 ",
         "rawType": "object",
         "type": "string"
        },
        {
         "name": "2022-S2 ",
         "rawType": "object",
         "type": "string"
        },
        {
         "name": "2023-S1 ",
         "rawType": "object",
         "type": "string"
        },
        {
         "name": "2023-S2 ",
         "rawType": "object",
         "type": "string"
        },
        {
         "name": "2024-S1 ",
         "rawType": "object",
         "type": "string"
        },
        {
         "name": "2024-S2 ",
         "rawType": "object",
         "type": "string"
        },
        {
         "name": "2025-S1 ",
         "rawType": "object",
         "type": "string"
        },
        {
         "name": "2025-S2 ",
         "rawType": "object",
         "type": "string"
        },
        {
         "name": "freq",
         "rawType": "object",
         "type": "string"
        },
        {
         "name": "currency",
         "rawType": "object",
         "type": "string"
        }
       ],
       "ref": "cf3257f6-e66f-410c-955d-170489aad499",
       "rows": [
        [
         "0",
         "AL",
         "213 ",
         "209 ",
         "243 ",
         "245 ",
         "248 ",
         "269 ",
         "298 ",
         "376 ",
         "385 ",
         "399 ",
         "408 ",
         "408 ",
         "S",
         "EUR"
        ],
        [
         "1",
         "AT",
         ": m",
         ": m",
         ": m",
         ": m",
         ": m",
         ": m",
         ": m",
         ": m",
         ": m",
         ": m",
         ": m",
         ": m",
         "S",
         "EUR"
        ],
        [
         "2",
         "BE",
         "1594 ",
         "1626 ",
         "1626 ",
         "1626 ",
         "1658 ",
         "1842 ",
         "1955 ",
         "1955 ",
         "1994 ",
         "2070 ",
         "2070 ",
         "2112 ",
         "S",
         "EUR"
        ],
        [
         "3",
         "BG",
         "312 ",
         "312 ",
         "332 ",
         "332 ",
         "332 ",
         "363 ",
         "399 ",
         "399 ",
         "477 ",
         "477 ",
         "551 ",
         "551 ",
         "S",
         "EUR"
        ],
        [
         "4",
         "CH",
         ": m",
         ": m",
         ": m",
         ": m",
         ": m",
         ": m",
         ": m",
         ": m",
         ": m",
         ": m",
         ": m",
         ": m",
         "S",
         "EUR"
        ]
       ],
       "shape": {
        "columns": 15,
        "rows": 5
       }
      },
      "text/html": [
       "<div>\n",
       "<style scoped>\n",
       "    .dataframe tbody tr th:only-of-type {\n",
       "        vertical-align: middle;\n",
       "    }\n",
       "\n",
       "    .dataframe tbody tr th {\n",
       "        vertical-align: top;\n",
       "    }\n",
       "\n",
       "    .dataframe thead th {\n",
       "        text-align: right;\n",
       "    }\n",
       "</style>\n",
       "<table border=\"1\" class=\"dataframe\">\n",
       "  <thead>\n",
       "    <tr style=\"text-align: right;\">\n",
       "      <th></th>\n",
       "      <th>geo</th>\n",
       "      <th>2020-S1</th>\n",
       "      <th>2020-S2</th>\n",
       "      <th>2021-S1</th>\n",
       "      <th>2021-S2</th>\n",
       "      <th>2022-S1</th>\n",
       "      <th>2022-S2</th>\n",
       "      <th>2023-S1</th>\n",
       "      <th>2023-S2</th>\n",
       "      <th>2024-S1</th>\n",
       "      <th>2024-S2</th>\n",
       "      <th>2025-S1</th>\n",
       "      <th>2025-S2</th>\n",
       "      <th>freq</th>\n",
       "      <th>currency</th>\n",
       "    </tr>\n",
       "  </thead>\n",
       "  <tbody>\n",
       "    <tr>\n",
       "      <th>0</th>\n",
       "      <td>AL</td>\n",
       "      <td>213</td>\n",
       "      <td>209</td>\n",
       "      <td>243</td>\n",
       "      <td>245</td>\n",
       "      <td>248</td>\n",
       "      <td>269</td>\n",
       "      <td>298</td>\n",
       "      <td>376</td>\n",
       "      <td>385</td>\n",
       "      <td>399</td>\n",
       "      <td>408</td>\n",
       "      <td>408</td>\n",
       "      <td>S</td>\n",
       "      <td>EUR</td>\n",
       "    </tr>\n",
       "    <tr>\n",
       "      <th>1</th>\n",
       "      <td>AT</td>\n",
       "      <td>: m</td>\n",
       "      <td>: m</td>\n",
       "      <td>: m</td>\n",
       "      <td>: m</td>\n",
       "      <td>: m</td>\n",
       "      <td>: m</td>\n",
       "      <td>: m</td>\n",
       "      <td>: m</td>\n",
       "      <td>: m</td>\n",
       "      <td>: m</td>\n",
       "      <td>: m</td>\n",
       "      <td>: m</td>\n",
       "      <td>S</td>\n",
       "      <td>EUR</td>\n",
       "    </tr>\n",
       "    <tr>\n",
       "      <th>2</th>\n",
       "      <td>BE</td>\n",
       "      <td>1594</td>\n",
       "      <td>1626</td>\n",
       "      <td>1626</td>\n",
       "      <td>1626</td>\n",
       "      <td>1658</td>\n",
       "      <td>1842</td>\n",
       "      <td>1955</td>\n",
       "      <td>1955</td>\n",
       "      <td>1994</td>\n",
       "      <td>2070</td>\n",
       "      <td>2070</td>\n",
       "      <td>2112</td>\n",
       "      <td>S</td>\n",
       "      <td>EUR</td>\n",
       "    </tr>\n",
       "    <tr>\n",
       "      <th>3</th>\n",
       "      <td>BG</td>\n",
       "      <td>312</td>\n",
       "      <td>312</td>\n",
       "      <td>332</td>\n",
       "      <td>332</td>\n",
       "      <td>332</td>\n",
       "      <td>363</td>\n",
       "      <td>399</td>\n",
       "      <td>399</td>\n",
       "      <td>477</td>\n",
       "      <td>477</td>\n",
       "      <td>551</td>\n",
       "      <td>551</td>\n",
       "      <td>S</td>\n",
       "      <td>EUR</td>\n",
       "    </tr>\n",
       "    <tr>\n",
       "      <th>4</th>\n",
       "      <td>CH</td>\n",
       "      <td>: m</td>\n",
       "      <td>: m</td>\n",
       "      <td>: m</td>\n",
       "      <td>: m</td>\n",
       "      <td>: m</td>\n",
       "      <td>: m</td>\n",
       "      <td>: m</td>\n",
       "      <td>: m</td>\n",
       "      <td>: m</td>\n",
       "      <td>: m</td>\n",
       "      <td>: m</td>\n",
       "      <td>: m</td>\n",
       "      <td>S</td>\n",
       "      <td>EUR</td>\n",
       "    </tr>\n",
       "  </tbody>\n",
       "</table>\n",
       "</div>"
      ],
      "text/plain": [
       "  geo 2020-S1  2020-S2  2021-S1  2021-S2  2022-S1  2022-S2  2023-S1  2023-S2   \\\n",
       "0  AL     213      209      243      245      248      269      298      376    \n",
       "1  AT      : m      : m      : m      : m      : m      : m      : m      : m   \n",
       "2  BE    1594     1626     1626     1626     1658     1842     1955     1955    \n",
       "3  BG     312      312      332      332      332      363      399      399    \n",
       "4  CH      : m      : m      : m      : m      : m      : m      : m      : m   \n",
       "\n",
       "  2024-S1  2024-S2  2025-S1  2025-S2  freq currency  \n",
       "0     385      399      408      408     S      EUR  \n",
       "1      : m      : m      : m      : m    S      EUR  \n",
       "2    1994     2070     2070     2112     S      EUR  \n",
       "3     477      477      551      551     S      EUR  \n",
       "4      : m      : m      : m      : m    S      EUR  "
      ]
     },
     "execution_count": 5,
     "metadata": {},
     "output_type": "execute_result"
    }
   ],
   "source": [
    "# Drop the first column\n",
    "df = df.drop(columns=['freq,currency,geo\\\\TIME_PERIOD'])\n",
    "\n",
    "# Move 'geo' to the first column\n",
    "cols = ['geo'] + [col for col in df.columns if col != 'geo']\n",
    "df = df[cols]\n",
    "\n",
    "df.head()"
   ]
  },
  {
   "cell_type": "code",
   "execution_count": 7,
   "id": "47d13334",
   "metadata": {},
   "outputs": [
    {
     "name": "stdout",
     "output_type": "stream",
     "text": [
      "<class 'pandas.core.frame.DataFrame'>\n",
      "RangeIndex: 39 entries, 0 to 38\n",
      "Data columns (total 15 columns):\n",
      " #   Column    Non-Null Count  Dtype \n",
      "---  ------    --------------  ----- \n",
      " 0   geo       39 non-null     object\n",
      " 1   2020-S1   39 non-null     object\n",
      " 2   2020-S2   39 non-null     object\n",
      " 3   2021-S1   39 non-null     object\n",
      " 4   2021-S2   39 non-null     object\n",
      " 5   2022-S1   39 non-null     object\n",
      " 6   2022-S2   39 non-null     object\n",
      " 7   2023-S1   39 non-null     object\n",
      " 8   2023-S2   39 non-null     object\n",
      " 9   2024-S1   39 non-null     object\n",
      " 10  2024-S2   39 non-null     object\n",
      " 11  2025-S1   39 non-null     object\n",
      " 12  2025-S2   39 non-null     object\n",
      " 13  freq      39 non-null     object\n",
      " 14  currency  39 non-null     object\n",
      "dtypes: object(15)\n",
      "memory usage: 4.7+ KB\n"
     ]
    }
   ],
   "source": [
    "df.info()"
   ]
  },
  {
   "cell_type": "code",
   "execution_count": 8,
   "id": "f30579c5",
   "metadata": {},
   "outputs": [
    {
     "data": {
      "application/vnd.microsoft.datawrangler.viewer.v0+json": {
       "columns": [
        {
         "name": "index",
         "rawType": "int64",
         "type": "integer"
        },
        {
         "name": "2020-S1 ",
         "rawType": "object",
         "type": "string"
        }
       ],
       "ref": "90a27ff7-18e1-42c8-b4b3-895a342102c4",
       "rows": [
        [
         "0",
         "213 "
        ],
        [
         "1",
         ": m"
        ],
        [
         "2",
         "1594 "
        ],
        [
         "3",
         "312 "
        ],
        [
         "4",
         ": m"
        ],
        [
         "5",
         ": m"
        ],
        [
         "6",
         "575 "
        ],
        [
         "7",
         "1544 "
        ],
        [
         "8",
         ": m"
        ],
        [
         "9",
         "584 "
        ],
        [
         "10",
         "758 "
        ],
        [
         "11",
         "1108 "
        ],
        [
         "12",
         ": m"
        ],
        [
         "13",
         "1539 "
        ],
        [
         "14",
         "546 "
        ],
        [
         "15",
         "487 "
        ],
        [
         "16",
         "1656 "
        ],
        [
         "17",
         ": m"
        ],
        [
         "18",
         ": m"
        ],
        [
         "19",
         "607 "
        ],
        [
         "20",
         "2142 "
        ],
        [
         "21",
         "430 "
        ],
        [
         "22",
         "52 "
        ],
        [
         "23",
         "331 "
        ],
        [
         "24",
         "342 "
        ],
        [
         "25",
         "777 "
        ],
        [
         "26",
         "1654 "
        ],
        [
         "27",
         ": m"
        ],
        [
         "28",
         "611 "
        ],
        [
         "29",
         "741 "
        ],
        [
         "30",
         "466 "
        ],
        [
         "31",
         "344 "
        ],
        [
         "32",
         ": m"
        ],
        [
         "33",
         "941 "
        ],
        [
         "34",
         "580 "
        ],
        [
         "35",
         "440 "
        ],
        [
         "36",
         "183 "
        ],
        [
         "37",
         "1599 "
        ],
        [
         "38",
         "1119 "
        ]
       ],
       "shape": {
        "columns": 1,
        "rows": 39
       }
      },
      "text/plain": [
       "0      213 \n",
       "1       : m\n",
       "2     1594 \n",
       "3      312 \n",
       "4       : m\n",
       "5       : m\n",
       "6      575 \n",
       "7     1544 \n",
       "8       : m\n",
       "9      584 \n",
       "10     758 \n",
       "11    1108 \n",
       "12      : m\n",
       "13    1539 \n",
       "14     546 \n",
       "15     487 \n",
       "16    1656 \n",
       "17      : m\n",
       "18      : m\n",
       "19     607 \n",
       "20    2142 \n",
       "21     430 \n",
       "22      52 \n",
       "23     331 \n",
       "24     342 \n",
       "25     777 \n",
       "26    1654 \n",
       "27      : m\n",
       "28     611 \n",
       "29     741 \n",
       "30     466 \n",
       "31     344 \n",
       "32      : m\n",
       "33     941 \n",
       "34     580 \n",
       "35     440 \n",
       "36     183 \n",
       "37    1599 \n",
       "38    1119 \n",
       "Name: 2020-S1 , dtype: object"
      ]
     },
     "execution_count": 8,
     "metadata": {},
     "output_type": "execute_result"
    }
   ],
   "source": [
    "df['2020-S1 ']"
   ]
  },
  {
   "cell_type": "code",
   "execution_count": 9,
   "id": "1242c9c3",
   "metadata": {},
   "outputs": [
    {
     "data": {
      "application/vnd.microsoft.datawrangler.viewer.v0+json": {
       "columns": [
        {
         "name": "index",
         "rawType": "int64",
         "type": "integer"
        },
        {
         "name": "geo",
         "rawType": "object",
         "type": "string"
        },
        {
         "name": "2025-S1 ",
         "rawType": "object",
         "type": "string"
        },
        {
         "name": "2025-S2 ",
         "rawType": "object",
         "type": "string"
        }
       ],
       "ref": "6161f95d-43e8-443d-ad21-0c89b5a6537c",
       "rows": [
        [
         "0",
         "AL",
         "408 ",
         "408 "
        ],
        [
         "1",
         "AT",
         ": m",
         ": m"
        ],
        [
         "2",
         "BE",
         "2070 ",
         "2112 "
        ],
        [
         "3",
         "BG",
         "551 ",
         "551 "
        ],
        [
         "4",
         "CH",
         ": m",
         ": m"
        ]
       ],
       "shape": {
        "columns": 3,
        "rows": 5
       }
      },
      "text/html": [
       "<div>\n",
       "<style scoped>\n",
       "    .dataframe tbody tr th:only-of-type {\n",
       "        vertical-align: middle;\n",
       "    }\n",
       "\n",
       "    .dataframe tbody tr th {\n",
       "        vertical-align: top;\n",
       "    }\n",
       "\n",
       "    .dataframe thead th {\n",
       "        text-align: right;\n",
       "    }\n",
       "</style>\n",
       "<table border=\"1\" class=\"dataframe\">\n",
       "  <thead>\n",
       "    <tr style=\"text-align: right;\">\n",
       "      <th></th>\n",
       "      <th>geo</th>\n",
       "      <th>2025-S1</th>\n",
       "      <th>2025-S2</th>\n",
       "    </tr>\n",
       "  </thead>\n",
       "  <tbody>\n",
       "    <tr>\n",
       "      <th>0</th>\n",
       "      <td>AL</td>\n",
       "      <td>408</td>\n",
       "      <td>408</td>\n",
       "    </tr>\n",
       "    <tr>\n",
       "      <th>1</th>\n",
       "      <td>AT</td>\n",
       "      <td>: m</td>\n",
       "      <td>: m</td>\n",
       "    </tr>\n",
       "    <tr>\n",
       "      <th>2</th>\n",
       "      <td>BE</td>\n",
       "      <td>2070</td>\n",
       "      <td>2112</td>\n",
       "    </tr>\n",
       "    <tr>\n",
       "      <th>3</th>\n",
       "      <td>BG</td>\n",
       "      <td>551</td>\n",
       "      <td>551</td>\n",
       "    </tr>\n",
       "    <tr>\n",
       "      <th>4</th>\n",
       "      <td>CH</td>\n",
       "      <td>: m</td>\n",
       "      <td>: m</td>\n",
       "    </tr>\n",
       "  </tbody>\n",
       "</table>\n",
       "</div>"
      ],
      "text/plain": [
       "  geo 2025-S1  2025-S2 \n",
       "0  AL     408      408 \n",
       "1  AT      : m      : m\n",
       "2  BE    2070     2112 \n",
       "3  BG     551      551 \n",
       "4  CH      : m      : m"
      ]
     },
     "execution_count": 9,
     "metadata": {},
     "output_type": "execute_result"
    }
   ],
   "source": [
    "# Create a new dataset with geo and 2025-S1, 2025-S2 columns\n",
    "df_2025 = df[['geo', '2025-S1 ', '2025-S2 ']]\n",
    "\n",
    "df_2025.head()"
   ]
  },
  {
   "cell_type": "code",
   "execution_count": 10,
   "id": "3665bd66",
   "metadata": {},
   "outputs": [
    {
     "name": "stderr",
     "output_type": "stream",
     "text": [
      "/var/folders/88/t4qwcm1n44z0_870pr_ryj7w0000gn/T/ipykernel_20623/3917599497.py:5: SettingWithCopyWarning: \n",
      "A value is trying to be set on a copy of a slice from a DataFrame.\n",
      "Try using .loc[row_indexer,col_indexer] = value instead\n",
      "\n",
      "See the caveats in the documentation: https://pandas.pydata.org/pandas-docs/stable/user_guide/indexing.html#returning-a-view-versus-a-copy\n",
      "  df_2025['2025'] = pd.to_numeric(df_2025['2025-S1'], errors='coerce') + pd.to_numeric(df_2025['2025-S2'], errors='coerce')\n"
     ]
    },
    {
     "data": {
      "application/vnd.microsoft.datawrangler.viewer.v0+json": {
       "columns": [
        {
         "name": "index",
         "rawType": "int64",
         "type": "integer"
        },
        {
         "name": "geo",
         "rawType": "object",
         "type": "string"
        },
        {
         "name": "2025-S1",
         "rawType": "object",
         "type": "string"
        },
        {
         "name": "2025-S2",
         "rawType": "object",
         "type": "string"
        },
        {
         "name": "2025",
         "rawType": "float64",
         "type": "float"
        }
       ],
       "ref": "0b88cc9f-91b8-4aa7-a14e-31b1fd2bb933",
       "rows": [
        [
         "0",
         "AL",
         "408 ",
         "408 ",
         "816.0"
        ],
        [
         "1",
         "AT",
         ": m",
         ": m",
         null
        ],
        [
         "2",
         "BE",
         "2070 ",
         "2112 ",
         "4182.0"
        ],
        [
         "3",
         "BG",
         "551 ",
         "551 ",
         "1102.0"
        ],
        [
         "4",
         "CH",
         ": m",
         ": m",
         null
        ]
       ],
       "shape": {
        "columns": 4,
        "rows": 5
       }
      },
      "text/html": [
       "<div>\n",
       "<style scoped>\n",
       "    .dataframe tbody tr th:only-of-type {\n",
       "        vertical-align: middle;\n",
       "    }\n",
       "\n",
       "    .dataframe tbody tr th {\n",
       "        vertical-align: top;\n",
       "    }\n",
       "\n",
       "    .dataframe thead th {\n",
       "        text-align: right;\n",
       "    }\n",
       "</style>\n",
       "<table border=\"1\" class=\"dataframe\">\n",
       "  <thead>\n",
       "    <tr style=\"text-align: right;\">\n",
       "      <th></th>\n",
       "      <th>geo</th>\n",
       "      <th>2025-S1</th>\n",
       "      <th>2025-S2</th>\n",
       "      <th>2025</th>\n",
       "    </tr>\n",
       "  </thead>\n",
       "  <tbody>\n",
       "    <tr>\n",
       "      <th>0</th>\n",
       "      <td>AL</td>\n",
       "      <td>408</td>\n",
       "      <td>408</td>\n",
       "      <td>816.0</td>\n",
       "    </tr>\n",
       "    <tr>\n",
       "      <th>1</th>\n",
       "      <td>AT</td>\n",
       "      <td>: m</td>\n",
       "      <td>: m</td>\n",
       "      <td>NaN</td>\n",
       "    </tr>\n",
       "    <tr>\n",
       "      <th>2</th>\n",
       "      <td>BE</td>\n",
       "      <td>2070</td>\n",
       "      <td>2112</td>\n",
       "      <td>4182.0</td>\n",
       "    </tr>\n",
       "    <tr>\n",
       "      <th>3</th>\n",
       "      <td>BG</td>\n",
       "      <td>551</td>\n",
       "      <td>551</td>\n",
       "      <td>1102.0</td>\n",
       "    </tr>\n",
       "    <tr>\n",
       "      <th>4</th>\n",
       "      <td>CH</td>\n",
       "      <td>: m</td>\n",
       "      <td>: m</td>\n",
       "      <td>NaN</td>\n",
       "    </tr>\n",
       "  </tbody>\n",
       "</table>\n",
       "</div>"
      ],
      "text/plain": [
       "  geo 2025-S1 2025-S2    2025\n",
       "0  AL    408     408    816.0\n",
       "1  AT     : m     : m     NaN\n",
       "2  BE   2070    2112   4182.0\n",
       "3  BG    551     551   1102.0\n",
       "4  CH     : m     : m     NaN"
      ]
     },
     "execution_count": 10,
     "metadata": {},
     "output_type": "execute_result"
    }
   ],
   "source": [
    "# Remove trailing spaces from column names if needed\n",
    "df_2025.columns = df_2025.columns.str.strip()\n",
    "\n",
    "# Add 2025-S1 and 2025-S2 to get the yearly wage\n",
    "df_2025['2025'] = pd.to_numeric(df_2025['2025-S1'], errors='coerce') + pd.to_numeric(df_2025['2025-S2'], errors='coerce')\n",
    "\n",
    "df_2025.head()"
   ]
  },
  {
   "cell_type": "code",
   "execution_count": 12,
   "id": "210a7a4c",
   "metadata": {},
   "outputs": [
    {
     "name": "stderr",
     "output_type": "stream",
     "text": [
      "/var/folders/88/t4qwcm1n44z0_870pr_ryj7w0000gn/T/ipykernel_20623/2406449315.py:2: SettingWithCopyWarning: \n",
      "A value is trying to be set on a copy of a slice from a DataFrame\n",
      "\n",
      "See the caveats in the documentation: https://pandas.pydata.org/pandas-docs/stable/user_guide/indexing.html#returning-a-view-versus-a-copy\n",
      "  df_2025.replace({': m': pd.NA, ':': pd.NA}, inplace=True)\n"
     ]
    }
   ],
   "source": [
    "# Replace ': m' and ':' with NaN in the entire DataFrame\n",
    "df_2025.replace({': m': pd.NA, ':': pd.NA}, inplace=True)\n",
    "\n",
    "df_2025 = df_2025.dropna()"
   ]
  },
  {
   "cell_type": "code",
   "execution_count": 13,
   "id": "41fba60a",
   "metadata": {},
   "outputs": [
    {
     "data": {
      "application/vnd.microsoft.datawrangler.viewer.v0+json": {
       "columns": [
        {
         "name": "index",
         "rawType": "int64",
         "type": "integer"
        },
        {
         "name": "geo",
         "rawType": "object",
         "type": "string"
        },
        {
         "name": "2025-S1",
         "rawType": "object",
         "type": "string"
        },
        {
         "name": "2025-S2",
         "rawType": "object",
         "type": "string"
        },
        {
         "name": "2025",
         "rawType": "float64",
         "type": "float"
        }
       ],
       "ref": "c1c21f1f-074c-4d79-8711-d8878d01adb4",
       "rows": [
        [
         "0",
         "AL",
         "408 ",
         "408 ",
         "816.0"
        ],
        [
         "2",
         "BE",
         "2070 ",
         "2112 ",
         "4182.0"
        ],
        [
         "3",
         "BG",
         "551 ",
         "551 ",
         "1102.0"
        ],
        [
         "5",
         "CY",
         "1000 ",
         "1000 ",
         "2000.0"
        ],
        [
         "6",
         "CZ",
         "826 ",
         "841 ",
         "1667.0"
        ]
       ],
       "shape": {
        "columns": 4,
        "rows": 5
       }
      },
      "text/html": [
       "<div>\n",
       "<style scoped>\n",
       "    .dataframe tbody tr th:only-of-type {\n",
       "        vertical-align: middle;\n",
       "    }\n",
       "\n",
       "    .dataframe tbody tr th {\n",
       "        vertical-align: top;\n",
       "    }\n",
       "\n",
       "    .dataframe thead th {\n",
       "        text-align: right;\n",
       "    }\n",
       "</style>\n",
       "<table border=\"1\" class=\"dataframe\">\n",
       "  <thead>\n",
       "    <tr style=\"text-align: right;\">\n",
       "      <th></th>\n",
       "      <th>geo</th>\n",
       "      <th>2025-S1</th>\n",
       "      <th>2025-S2</th>\n",
       "      <th>2025</th>\n",
       "    </tr>\n",
       "  </thead>\n",
       "  <tbody>\n",
       "    <tr>\n",
       "      <th>0</th>\n",
       "      <td>AL</td>\n",
       "      <td>408</td>\n",
       "      <td>408</td>\n",
       "      <td>816.0</td>\n",
       "    </tr>\n",
       "    <tr>\n",
       "      <th>2</th>\n",
       "      <td>BE</td>\n",
       "      <td>2070</td>\n",
       "      <td>2112</td>\n",
       "      <td>4182.0</td>\n",
       "    </tr>\n",
       "    <tr>\n",
       "      <th>3</th>\n",
       "      <td>BG</td>\n",
       "      <td>551</td>\n",
       "      <td>551</td>\n",
       "      <td>1102.0</td>\n",
       "    </tr>\n",
       "    <tr>\n",
       "      <th>5</th>\n",
       "      <td>CY</td>\n",
       "      <td>1000</td>\n",
       "      <td>1000</td>\n",
       "      <td>2000.0</td>\n",
       "    </tr>\n",
       "    <tr>\n",
       "      <th>6</th>\n",
       "      <td>CZ</td>\n",
       "      <td>826</td>\n",
       "      <td>841</td>\n",
       "      <td>1667.0</td>\n",
       "    </tr>\n",
       "  </tbody>\n",
       "</table>\n",
       "</div>"
      ],
      "text/plain": [
       "  geo 2025-S1 2025-S2    2025\n",
       "0  AL    408     408    816.0\n",
       "2  BE   2070    2112   4182.0\n",
       "3  BG    551     551   1102.0\n",
       "5  CY   1000    1000   2000.0\n",
       "6  CZ    826     841   1667.0"
      ]
     },
     "execution_count": 13,
     "metadata": {},
     "output_type": "execute_result"
    }
   ],
   "source": [
    "df_2025.head()"
   ]
  },
  {
   "cell_type": "code",
   "execution_count": 14,
   "id": "408029e2",
   "metadata": {},
   "outputs": [
    {
     "data": {
      "application/vnd.microsoft.datawrangler.viewer.v0+json": {
       "columns": [
        {
         "name": "index",
         "rawType": "int64",
         "type": "integer"
        },
        {
         "name": "geo",
         "rawType": "object",
         "type": "string"
        },
        {
         "name": "2025-S1",
         "rawType": "object",
         "type": "string"
        },
        {
         "name": "2025-S2",
         "rawType": "object",
         "type": "string"
        },
        {
         "name": "2025",
         "rawType": "float64",
         "type": "float"
        },
        {
         "name": "monthly_wage",
         "rawType": "float64",
         "type": "float"
        },
        {
         "name": "daily_wage",
         "rawType": "float64",
         "type": "float"
        }
       ],
       "ref": "5817b20d-7359-4015-a55b-d06b6d1f97b8",
       "rows": [
        [
         "0",
         "AL",
         "408 ",
         "408 ",
         "816.0",
         "68.0",
         "2.2356164383561645"
        ],
        [
         "2",
         "BE",
         "2070 ",
         "2112 ",
         "4182.0",
         "348.5",
         "11.457534246575342"
        ],
        [
         "3",
         "BG",
         "551 ",
         "551 ",
         "1102.0",
         "91.83333333333333",
         "3.0191780821917806"
        ],
        [
         "5",
         "CY",
         "1000 ",
         "1000 ",
         "2000.0",
         "166.66666666666666",
         "5.47945205479452"
        ],
        [
         "6",
         "CZ",
         "826 ",
         "841 ",
         "1667.0",
         "138.91666666666666",
         "4.567123287671233"
        ]
       ],
       "shape": {
        "columns": 6,
        "rows": 5
       }
      },
      "text/html": [
       "<div>\n",
       "<style scoped>\n",
       "    .dataframe tbody tr th:only-of-type {\n",
       "        vertical-align: middle;\n",
       "    }\n",
       "\n",
       "    .dataframe tbody tr th {\n",
       "        vertical-align: top;\n",
       "    }\n",
       "\n",
       "    .dataframe thead th {\n",
       "        text-align: right;\n",
       "    }\n",
       "</style>\n",
       "<table border=\"1\" class=\"dataframe\">\n",
       "  <thead>\n",
       "    <tr style=\"text-align: right;\">\n",
       "      <th></th>\n",
       "      <th>geo</th>\n",
       "      <th>2025-S1</th>\n",
       "      <th>2025-S2</th>\n",
       "      <th>2025</th>\n",
       "      <th>monthly_wage</th>\n",
       "      <th>daily_wage</th>\n",
       "    </tr>\n",
       "  </thead>\n",
       "  <tbody>\n",
       "    <tr>\n",
       "      <th>0</th>\n",
       "      <td>AL</td>\n",
       "      <td>408</td>\n",
       "      <td>408</td>\n",
       "      <td>816.0</td>\n",
       "      <td>68.000000</td>\n",
       "      <td>2.235616</td>\n",
       "    </tr>\n",
       "    <tr>\n",
       "      <th>2</th>\n",
       "      <td>BE</td>\n",
       "      <td>2070</td>\n",
       "      <td>2112</td>\n",
       "      <td>4182.0</td>\n",
       "      <td>348.500000</td>\n",
       "      <td>11.457534</td>\n",
       "    </tr>\n",
       "    <tr>\n",
       "      <th>3</th>\n",
       "      <td>BG</td>\n",
       "      <td>551</td>\n",
       "      <td>551</td>\n",
       "      <td>1102.0</td>\n",
       "      <td>91.833333</td>\n",
       "      <td>3.019178</td>\n",
       "    </tr>\n",
       "    <tr>\n",
       "      <th>5</th>\n",
       "      <td>CY</td>\n",
       "      <td>1000</td>\n",
       "      <td>1000</td>\n",
       "      <td>2000.0</td>\n",
       "      <td>166.666667</td>\n",
       "      <td>5.479452</td>\n",
       "    </tr>\n",
       "    <tr>\n",
       "      <th>6</th>\n",
       "      <td>CZ</td>\n",
       "      <td>826</td>\n",
       "      <td>841</td>\n",
       "      <td>1667.0</td>\n",
       "      <td>138.916667</td>\n",
       "      <td>4.567123</td>\n",
       "    </tr>\n",
       "  </tbody>\n",
       "</table>\n",
       "</div>"
      ],
      "text/plain": [
       "  geo 2025-S1 2025-S2    2025  monthly_wage  daily_wage\n",
       "0  AL    408     408    816.0     68.000000    2.235616\n",
       "2  BE   2070    2112   4182.0    348.500000   11.457534\n",
       "3  BG    551     551   1102.0     91.833333    3.019178\n",
       "5  CY   1000    1000   2000.0    166.666667    5.479452\n",
       "6  CZ    826     841   1667.0    138.916667    4.567123"
      ]
     },
     "execution_count": 14,
     "metadata": {},
     "output_type": "execute_result"
    }
   ],
   "source": [
    "# Calculate monthly and daily wage\n",
    "df_2025['monthly_wage'] = df_2025['2025'] / 12\n",
    "df_2025['daily_wage'] = df_2025['2025'] / 365  # More accurate than dividing by 30\n",
    "\n",
    "df_2025.head()"
   ]
  },
  {
   "cell_type": "code",
   "execution_count": 15,
   "id": "cbb5ca36",
   "metadata": {},
   "outputs": [
    {
     "name": "stderr",
     "output_type": "stream",
     "text": [
      "/var/folders/88/t4qwcm1n44z0_870pr_ryj7w0000gn/T/ipykernel_20623/3180513375.py:2: FutureWarning: \n",
      "\n",
      "Passing `palette` without assigning `hue` is deprecated and will be removed in v0.14.0. Assign the `x` variable to `hue` and set `legend=False` for the same effect.\n",
      "\n",
      "  sns.barplot(data=df_2025, x='geo', y='monthly_wage', palette='viridis')\n"
     ]
    },
    {
     "data": {
      "image/png": "[encoded data removed]",
      "text/plain": [
       "<Figure size 1200x600 with 1 Axes>"
      ]
     },
     "metadata": {},
     "output_type": "display_data"
    }
   ],
   "source": [
    "plt.figure(figsize=(12, 6))\n",
    "sns.barplot(data=df_2025, x='geo', y='monthly_wage', palette='viridis')\n",
    "plt.xticks(rotation=90)\n",
    "plt.title('Monthly Minimum Wage by Country (2025)')\n",
    "plt.xlabel('Country Code')\n",
    "plt.ylabel('Monthly Wage (EUR)')\n",
    "plt.tight_layout()\n",
    "plt.show()"
   ]
  },
  {
   "cell_type": "code",
   "execution_count": 18,
   "id": "bb2a0e5c",
   "metadata": {},
   "outputs": [],
   "source": [
    "country_map = {\n",
    "    'AL': 'Albania', 'AT': 'Austria', 'BE': 'Belgium', 'BG': 'Bulgaria', 'CH': 'Switzerland',\n",
    "    'CY': 'Cyprus', 'CZ': 'Czechia', 'DE': 'Germany', 'DK': 'Denmark', 'EE': 'Estonia',\n",
    "    'EL': 'Greece', 'ES': 'Spain', 'FI': 'Finland', 'FR': 'France', 'HR': 'Croatia',\n",
    "    'HU': 'Hungary', 'IE': 'Ireland', 'IS': 'Iceland', 'IT': 'Italy', 'LT': 'Lithuania',\n",
    "    'LU': 'Luxembourg', 'LV': 'Latvia', 'MD': 'Moldova', 'ME': 'Montenegro', 'MK': 'North Macedonia',\n",
    "    'MT': 'Malta', 'NL': 'Netherlands', 'NO': 'Norway', 'PL': 'Poland', 'PT': 'Portugal',\n",
    "    'RO': 'Romania', 'RS': 'Serbia'\n",
    "}\n",
    "\n",
    "df_2025['country'] = df_2025['geo'].map(country_map)"
   ]
  },
  {
   "cell_type": "code",
   "execution_count": 28,
   "id": "830aab80",
   "metadata": {},
   "outputs": [
    {
     "data": {
      "image/png": "[encoded data removed]",
      "text/plain": [
       "<Figure size 1000x1200 with 1 Axes>"
      ]
     },
     "metadata": {},
     "output_type": "display_data"
    }
   ],
   "source": [
    "plt.figure(figsize=(10, 12))\n",
    "df_sorted = df_2025.sort_values('monthly_wage', ascending=False)\n",
    "sns.barplot(data=df_sorted, y='country', x='monthly_wage', hue= 'country', palette='dark:blue', legend=False)\n",
    "plt.title('Monthly Minimum Wage by Country (2025)')\n",
    "plt.xlabel('Monthly Wage (EUR)')\n",
    "plt.ylabel('Country Code')\n",
    "plt.tight_layout()\n",
    "plt.show()"
   ]
  },
  {
   "cell_type": "code",
   "execution_count": 30,
   "id": "0922d67d",
   "metadata": {},
   "outputs": [],
   "source": [
    "# Export DataFrame with country and monthly_wage columns to CSV\n",
    "df_2025[['country', 'monthly_wage']].to_csv('monthly_wage_by_country.csv', index=False)"
   ]
  },
  {
   "cell_type": "code",
   "execution_count": 31,
   "id": "7d2dcaa6",
   "metadata": {},
   "outputs": [],
   "source": [
    "df_2025[['geo', 'monthly_wage']].to_csv('monthly_wage_by_countryCode.csv', index=False)"
   ]
  },
  {
   "cell_type": "code",
   "execution_count": null,
   "id": "46984d21",
   "metadata": {},
   "outputs": [],
   "source": []
  }
 ],
 "metadata": {
  "kernelspec": {
   "display_name": "venv",
   "language": "python",
   "name": "python3"
  },
  "language_info": {
   "codemirror_mode": {
    "name": "ipython",
    "version": 3
   },
   "file_extension": ".py",
   "mimetype": "text/x-python",
   "name": "python",
   "nbconvert_exporter": "python",
   "pygments_lexer": "ipython3",
   "version": "3.10.18"
  }
 },
 "nbformat": 4,
 "nbformat_minor": 5
}
